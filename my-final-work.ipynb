{
 "cells": [
  {
   "cell_type": "code",
   "execution_count": 1,
   "id": "877c751b",
   "metadata": {
    "_cell_guid": "b1076dfc-b9ad-4769-8c92-a6c4dae69d19",
    "_uuid": "8f2839f25d086af736a60e9eeb907d3b93b6e0e5",
    "execution": {
     "iopub.execute_input": "2022-12-17T19:48:24.245019Z",
     "iopub.status.busy": "2022-12-17T19:48:24.243929Z",
     "iopub.status.idle": "2022-12-17T19:48:24.261404Z",
     "shell.execute_reply": "2022-12-17T19:48:24.260458Z"
    },
    "papermill": {
     "duration": 0.031378,
     "end_time": "2022-12-17T19:48:24.264231",
     "exception": false,
     "start_time": "2022-12-17T19:48:24.232853",
     "status": "completed"
    },
    "tags": []
   },
   "outputs": [
    {
     "name": "stdout",
     "output_type": "stream",
     "text": [
      "/kaggle/input/marketing-strategy-personalised-offer/sample.csv\n",
      "/kaggle/input/marketing-strategy-personalised-offer/train_data.csv\n",
      "/kaggle/input/marketing-strategy-personalised-offer/test_data.csv\n"
     ]
    }
   ],
   "source": [
    "# This Python 3 environment comes with many helpful analytics libraries installed\n",
    "# It is defined by the kaggle/python Docker image: https://github.com/kaggle/docker-python\n",
    "# For example, here's several helpful packages to load\n",
    "\n",
    "import numpy as np # linear algebra\n",
    "import pandas as pd # data processing, CSV file I/O (e.g. pd.read_csv)\n",
    "\n",
    "# Input data files are available in the read-only \"../input/\" directory\n",
    "# For example, running this (by clicking run or pressing Shift+Enter) will list all files under the input directory\n",
    "\n",
    "import os\n",
    "for dirname, _, filenames in os.walk('/kaggle/input'):\n",
    "    for filename in filenames:\n",
    "        print(os.path.join(dirname, filename))\n",
    "\n",
    "# You can write up to 20GB to the current directory (/kaggle/working/) that gets preserved as output when you create a version using \"Save & Run All\" \n",
    "# You can also write temporary files to /kaggle/temp/, but they won't be saved outside of the current session"
   ]
  },
  {
   "cell_type": "code",
   "execution_count": 2,
   "id": "8dc9623e",
   "metadata": {
    "execution": {
     "iopub.execute_input": "2022-12-17T19:48:24.281625Z",
     "iopub.status.busy": "2022-12-17T19:48:24.280832Z",
     "iopub.status.idle": "2022-12-17T19:48:24.444940Z",
     "shell.execute_reply": "2022-12-17T19:48:24.443797Z"
    },
    "papermill": {
     "duration": 0.17572,
     "end_time": "2022-12-17T19:48:24.447725",
     "exception": false,
     "start_time": "2022-12-17T19:48:24.272005",
     "status": "completed"
    },
    "tags": []
   },
   "outputs": [],
   "source": [
    "train_data = pd.read_csv(\"/kaggle/input/marketing-strategy-personalised-offer/train_data.csv\")\n",
    "test_data = pd.read_csv(\"/kaggle/input/marketing-strategy-personalised-offer/test_data.csv\")\n"
   ]
  },
  {
   "cell_type": "code",
   "execution_count": 3,
   "id": "3c296cf3",
   "metadata": {
    "execution": {
     "iopub.execute_input": "2022-12-17T19:48:24.465476Z",
     "iopub.status.busy": "2022-12-17T19:48:24.464763Z",
     "iopub.status.idle": "2022-12-17T19:48:24.477003Z",
     "shell.execute_reply": "2022-12-17T19:48:24.475784Z"
    },
    "papermill": {
     "duration": 0.024566,
     "end_time": "2022-12-17T19:48:24.479817",
     "exception": false,
     "start_time": "2022-12-17T19:48:24.455251",
     "status": "completed"
    },
    "tags": []
   },
   "outputs": [],
   "source": [
    "features=train_data.iloc[:,0:-1]\n",
    "label=train_data.iloc[:,-1]"
   ]
  },
  {
   "cell_type": "code",
   "execution_count": 4,
   "id": "6f893a81",
   "metadata": {
    "execution": {
     "iopub.execute_input": "2022-12-17T19:48:24.495696Z",
     "iopub.status.busy": "2022-12-17T19:48:24.495287Z",
     "iopub.status.idle": "2022-12-17T19:48:25.775028Z",
     "shell.execute_reply": "2022-12-17T19:48:25.773873Z"
    },
    "papermill": {
     "duration": 1.290841,
     "end_time": "2022-12-17T19:48:25.777740",
     "exception": false,
     "start_time": "2022-12-17T19:48:24.486899",
     "status": "completed"
    },
    "tags": []
   },
   "outputs": [],
   "source": [
    "from sklearn.model_selection import train_test_split\n",
    "X,valx,y,valy=train_test_split(features,label,test_size=0.3)\n",
    "y=y.values.reshape(-1,1)\n",
    "valy=valy.values.reshape(-1,1)"
   ]
  },
  {
   "cell_type": "code",
   "execution_count": 5,
   "id": "440c93c5",
   "metadata": {
    "execution": {
     "iopub.execute_input": "2022-12-17T19:48:25.794130Z",
     "iopub.status.busy": "2022-12-17T19:48:25.793667Z",
     "iopub.status.idle": "2022-12-17T19:48:25.830412Z",
     "shell.execute_reply": "2022-12-17T19:48:25.828963Z"
    },
    "papermill": {
     "duration": 0.048376,
     "end_time": "2022-12-17T19:48:25.833341",
     "exception": false,
     "start_time": "2022-12-17T19:48:25.784965",
     "status": "completed"
    },
    "tags": []
   },
   "outputs": [
    {
     "name": "stdout",
     "output_type": "stream",
     "text": [
      "<class 'pandas.core.frame.DataFrame'>\n",
      "Int64Index: 8665 entries, 2468 to 11704\n",
      "Data columns (total 30 columns):\n",
      " #   Column                                Non-Null Count  Dtype \n",
      "---  ------                                --------------  ----- \n",
      " 0   offer expiration                      8665 non-null   object\n",
      " 1   income_range                          8665 non-null   object\n",
      " 2   no_visited_Cold drinks                8539 non-null   object\n",
      " 3   travelled_more_than_15mins_for_offer  8665 non-null   int64 \n",
      " 4   Restaur_spend_less_than20             8583 non-null   object\n",
      " 5   Marital Status                        8665 non-null   object\n",
      " 6   restaurant type                       8665 non-null   object\n",
      " 7   age                                   8665 non-null   object\n",
      " 8   Prefer western over chinese           8665 non-null   int64 \n",
      " 9   travelled_more_than_25mins_for_offer  8665 non-null   int64 \n",
      " 10  travelled_more_than_5mins_for_offer   8665 non-null   int64 \n",
      " 11  no_visited_bars                       8594 non-null   object\n",
      " 12  gender                                8665 non-null   object\n",
      " 13  car                                   85 non-null     object\n",
      " 14  restuarant_same_direction_house       8665 non-null   int64 \n",
      " 15  Cooks regularly                       8665 non-null   int64 \n",
      " 16  Customer type                         8665 non-null   object\n",
      " 17  Qualification                         8665 non-null   object\n",
      " 18  is foodie                             8665 non-null   int64 \n",
      " 19  no_Take-aways                         8562 non-null   object\n",
      " 20  Job/Job Industry                      8665 non-null   object\n",
      " 21  restuarant_opposite_direction_house   8665 non-null   int64 \n",
      " 22  has Children                          8665 non-null   int64 \n",
      " 23  visit restaurant with rating (avg)    8665 non-null   int64 \n",
      " 24  temperature                           8665 non-null   int64 \n",
      " 25  Restaur_spend_greater_than20          8549 non-null   object\n",
      " 26  Travel Time                           8665 non-null   int64 \n",
      " 27  Climate                               8665 non-null   object\n",
      " 28  drop location                         8665 non-null   object\n",
      " 29  Prefer home food                      8665 non-null   int64 \n",
      "dtypes: int64(13), object(17)\n",
      "memory usage: 2.0+ MB\n"
     ]
    }
   ],
   "source": [
    "X.info()"
   ]
  },
  {
   "cell_type": "code",
   "execution_count": 6,
   "id": "7c1aac43",
   "metadata": {
    "execution": {
     "iopub.execute_input": "2022-12-17T19:48:25.850716Z",
     "iopub.status.busy": "2022-12-17T19:48:25.850273Z",
     "iopub.status.idle": "2022-12-17T19:48:25.915864Z",
     "shell.execute_reply": "2022-12-17T19:48:25.914462Z"
    },
    "papermill": {
     "duration": 0.077789,
     "end_time": "2022-12-17T19:48:25.918746",
     "exception": false,
     "start_time": "2022-12-17T19:48:25.840957",
     "status": "completed"
    },
    "tags": []
   },
   "outputs": [
    {
     "data": {
      "text/html": [
       "<div>\n",
       "<style scoped>\n",
       "    .dataframe tbody tr th:only-of-type {\n",
       "        vertical-align: middle;\n",
       "    }\n",
       "\n",
       "    .dataframe tbody tr th {\n",
       "        vertical-align: top;\n",
       "    }\n",
       "\n",
       "    .dataframe thead th {\n",
       "        text-align: right;\n",
       "    }\n",
       "</style>\n",
       "<table border=\"1\" class=\"dataframe\">\n",
       "  <thead>\n",
       "    <tr style=\"text-align: right;\">\n",
       "      <th></th>\n",
       "      <th>travelled_more_than_15mins_for_offer</th>\n",
       "      <th>Prefer western over chinese</th>\n",
       "      <th>travelled_more_than_25mins_for_offer</th>\n",
       "      <th>travelled_more_than_5mins_for_offer</th>\n",
       "      <th>restuarant_same_direction_house</th>\n",
       "      <th>Cooks regularly</th>\n",
       "      <th>is foodie</th>\n",
       "      <th>restuarant_opposite_direction_house</th>\n",
       "      <th>has Children</th>\n",
       "      <th>visit restaurant with rating (avg)</th>\n",
       "      <th>temperature</th>\n",
       "      <th>Travel Time</th>\n",
       "      <th>Prefer home food</th>\n",
       "    </tr>\n",
       "  </thead>\n",
       "  <tbody>\n",
       "    <tr>\n",
       "      <th>count</th>\n",
       "      <td>8665.000000</td>\n",
       "      <td>8665.000000</td>\n",
       "      <td>8665.000000</td>\n",
       "      <td>8665.0</td>\n",
       "      <td>8665.000000</td>\n",
       "      <td>8665.000000</td>\n",
       "      <td>8665.000000</td>\n",
       "      <td>8665.000000</td>\n",
       "      <td>8665.000000</td>\n",
       "      <td>8665.000000</td>\n",
       "      <td>8665.000000</td>\n",
       "      <td>8665.000000</td>\n",
       "      <td>8665.000000</td>\n",
       "    </tr>\n",
       "    <tr>\n",
       "      <th>mean</th>\n",
       "      <td>0.565263</td>\n",
       "      <td>0.514253</td>\n",
       "      <td>0.118869</td>\n",
       "      <td>1.0</td>\n",
       "      <td>0.210156</td>\n",
       "      <td>0.498327</td>\n",
       "      <td>0.503405</td>\n",
       "      <td>0.791460</td>\n",
       "      <td>0.411771</td>\n",
       "      <td>1.988344</td>\n",
       "      <td>71.101212</td>\n",
       "      <td>13.919908</td>\n",
       "      <td>0.513214</td>\n",
       "    </tr>\n",
       "    <tr>\n",
       "      <th>std</th>\n",
       "      <td>0.495751</td>\n",
       "      <td>0.499826</td>\n",
       "      <td>0.323653</td>\n",
       "      <td>0.0</td>\n",
       "      <td>0.407443</td>\n",
       "      <td>0.500026</td>\n",
       "      <td>0.500017</td>\n",
       "      <td>0.406288</td>\n",
       "      <td>0.492183</td>\n",
       "      <td>1.421776</td>\n",
       "      <td>19.222438</td>\n",
       "      <td>5.371671</td>\n",
       "      <td>0.499854</td>\n",
       "    </tr>\n",
       "    <tr>\n",
       "      <th>min</th>\n",
       "      <td>0.000000</td>\n",
       "      <td>0.000000</td>\n",
       "      <td>0.000000</td>\n",
       "      <td>1.0</td>\n",
       "      <td>0.000000</td>\n",
       "      <td>0.000000</td>\n",
       "      <td>0.000000</td>\n",
       "      <td>0.000000</td>\n",
       "      <td>0.000000</td>\n",
       "      <td>0.000000</td>\n",
       "      <td>40.000000</td>\n",
       "      <td>7.000000</td>\n",
       "      <td>0.000000</td>\n",
       "    </tr>\n",
       "    <tr>\n",
       "      <th>25%</th>\n",
       "      <td>0.000000</td>\n",
       "      <td>0.000000</td>\n",
       "      <td>0.000000</td>\n",
       "      <td>1.0</td>\n",
       "      <td>0.000000</td>\n",
       "      <td>0.000000</td>\n",
       "      <td>0.000000</td>\n",
       "      <td>1.000000</td>\n",
       "      <td>0.000000</td>\n",
       "      <td>1.000000</td>\n",
       "      <td>67.000000</td>\n",
       "      <td>10.000000</td>\n",
       "      <td>0.000000</td>\n",
       "    </tr>\n",
       "    <tr>\n",
       "      <th>50%</th>\n",
       "      <td>1.000000</td>\n",
       "      <td>1.000000</td>\n",
       "      <td>0.000000</td>\n",
       "      <td>1.0</td>\n",
       "      <td>0.000000</td>\n",
       "      <td>0.000000</td>\n",
       "      <td>1.000000</td>\n",
       "      <td>1.000000</td>\n",
       "      <td>0.000000</td>\n",
       "      <td>2.000000</td>\n",
       "      <td>67.000000</td>\n",
       "      <td>14.000000</td>\n",
       "      <td>1.000000</td>\n",
       "    </tr>\n",
       "    <tr>\n",
       "      <th>75%</th>\n",
       "      <td>1.000000</td>\n",
       "      <td>1.000000</td>\n",
       "      <td>0.000000</td>\n",
       "      <td>1.0</td>\n",
       "      <td>0.000000</td>\n",
       "      <td>1.000000</td>\n",
       "      <td>1.000000</td>\n",
       "      <td>1.000000</td>\n",
       "      <td>1.000000</td>\n",
       "      <td>3.000000</td>\n",
       "      <td>89.000000</td>\n",
       "      <td>18.000000</td>\n",
       "      <td>1.000000</td>\n",
       "    </tr>\n",
       "    <tr>\n",
       "      <th>max</th>\n",
       "      <td>1.000000</td>\n",
       "      <td>1.000000</td>\n",
       "      <td>1.000000</td>\n",
       "      <td>1.0</td>\n",
       "      <td>1.000000</td>\n",
       "      <td>1.000000</td>\n",
       "      <td>1.000000</td>\n",
       "      <td>1.000000</td>\n",
       "      <td>1.000000</td>\n",
       "      <td>4.000000</td>\n",
       "      <td>89.000000</td>\n",
       "      <td>22.000000</td>\n",
       "      <td>1.000000</td>\n",
       "    </tr>\n",
       "  </tbody>\n",
       "</table>\n",
       "</div>"
      ],
      "text/plain": [
       "       travelled_more_than_15mins_for_offer  Prefer western over chinese  \\\n",
       "count                           8665.000000                  8665.000000   \n",
       "mean                               0.565263                     0.514253   \n",
       "std                                0.495751                     0.499826   \n",
       "min                                0.000000                     0.000000   \n",
       "25%                                0.000000                     0.000000   \n",
       "50%                                1.000000                     1.000000   \n",
       "75%                                1.000000                     1.000000   \n",
       "max                                1.000000                     1.000000   \n",
       "\n",
       "       travelled_more_than_25mins_for_offer  \\\n",
       "count                           8665.000000   \n",
       "mean                               0.118869   \n",
       "std                                0.323653   \n",
       "min                                0.000000   \n",
       "25%                                0.000000   \n",
       "50%                                0.000000   \n",
       "75%                                0.000000   \n",
       "max                                1.000000   \n",
       "\n",
       "       travelled_more_than_5mins_for_offer  restuarant_same_direction_house  \\\n",
       "count                               8665.0                      8665.000000   \n",
       "mean                                   1.0                         0.210156   \n",
       "std                                    0.0                         0.407443   \n",
       "min                                    1.0                         0.000000   \n",
       "25%                                    1.0                         0.000000   \n",
       "50%                                    1.0                         0.000000   \n",
       "75%                                    1.0                         0.000000   \n",
       "max                                    1.0                         1.000000   \n",
       "\n",
       "       Cooks regularly    is foodie  restuarant_opposite_direction_house  \\\n",
       "count      8665.000000  8665.000000                          8665.000000   \n",
       "mean          0.498327     0.503405                             0.791460   \n",
       "std           0.500026     0.500017                             0.406288   \n",
       "min           0.000000     0.000000                             0.000000   \n",
       "25%           0.000000     0.000000                             1.000000   \n",
       "50%           0.000000     1.000000                             1.000000   \n",
       "75%           1.000000     1.000000                             1.000000   \n",
       "max           1.000000     1.000000                             1.000000   \n",
       "\n",
       "       has Children  visit restaurant with rating (avg)  temperature  \\\n",
       "count   8665.000000                         8665.000000  8665.000000   \n",
       "mean       0.411771                            1.988344    71.101212   \n",
       "std        0.492183                            1.421776    19.222438   \n",
       "min        0.000000                            0.000000    40.000000   \n",
       "25%        0.000000                            1.000000    67.000000   \n",
       "50%        0.000000                            2.000000    67.000000   \n",
       "75%        1.000000                            3.000000    89.000000   \n",
       "max        1.000000                            4.000000    89.000000   \n",
       "\n",
       "       Travel Time  Prefer home food  \n",
       "count  8665.000000       8665.000000  \n",
       "mean     13.919908          0.513214  \n",
       "std       5.371671          0.499854  \n",
       "min       7.000000          0.000000  \n",
       "25%      10.000000          0.000000  \n",
       "50%      14.000000          1.000000  \n",
       "75%      18.000000          1.000000  \n",
       "max      22.000000          1.000000  "
      ]
     },
     "execution_count": 6,
     "metadata": {},
     "output_type": "execute_result"
    }
   ],
   "source": [
    "X.describe()"
   ]
  },
  {
   "cell_type": "code",
   "execution_count": 7,
   "id": "2b3edc9b",
   "metadata": {
    "execution": {
     "iopub.execute_input": "2022-12-17T19:48:25.937260Z",
     "iopub.status.busy": "2022-12-17T19:48:25.936839Z",
     "iopub.status.idle": "2022-12-17T19:48:25.963085Z",
     "shell.execute_reply": "2022-12-17T19:48:25.961893Z"
    },
    "papermill": {
     "duration": 0.038107,
     "end_time": "2022-12-17T19:48:25.966107",
     "exception": false,
     "start_time": "2022-12-17T19:48:25.928000",
     "status": "completed"
    },
    "tags": []
   },
   "outputs": [
    {
     "data": {
      "text/plain": [
       "<bound method NDFrame.head of       offer expiration      income_range no_visited_Cold drinks  \\\n",
       "2468           10hours   ₹75000 - ₹87499                  less1   \n",
       "4165             2days  Less than ₹12500                  less1   \n",
       "6546             2days   ₹50000 - ₹62499                  less1   \n",
       "513              2days   ₹87500 - ₹99999                    NaN   \n",
       "199              2days   ₹100000 or More                    1~3   \n",
       "...                ...               ...                    ...   \n",
       "1737             2days   ₹87500 - ₹99999                    1~3   \n",
       "11886            2days   ₹25000 - ₹37499                  never   \n",
       "1813             2days  Less than ₹12500                    1~3   \n",
       "8524             2days   ₹100000 or More                    4~8   \n",
       "11704          10hours   ₹62500 - ₹74999                    gt8   \n",
       "\n",
       "       travelled_more_than_15mins_for_offer Restaur_spend_less_than20  \\\n",
       "2468                                      1                       1~3   \n",
       "4165                                      1                       1~3   \n",
       "6546                                      0                       1~3   \n",
       "513                                       0                     less1   \n",
       "199                                       1                       gt8   \n",
       "...                                     ...                       ...   \n",
       "1737                                      1                       4~8   \n",
       "11886                                     0                       4~8   \n",
       "1813                                      0                     less1   \n",
       "8524                                      0                       4~8   \n",
       "11704                                     1                       1~3   \n",
       "\n",
       "          Marital Status       restaurant type     age  \\\n",
       "2468   Unmarried partner     2 star restaurant      21   \n",
       "4165   Unmarried partner   Restaurant with pub      21   \n",
       "6546     Married partner     2 star restaurant      36   \n",
       "513      Married partner     4 star restaurant      36   \n",
       "199      Married partner           Cold drinks      36   \n",
       "...                  ...                   ...     ...   \n",
       "1737     Married partner     4 star restaurant      31   \n",
       "11886    Married partner           Cold drinks  50plus   \n",
       "1813              Single   Restaurant with pub      46   \n",
       "8524   Unmarried partner  Take-away restaurant      21   \n",
       "11704  Unmarried partner     4 star restaurant      31   \n",
       "\n",
       "       Prefer western over chinese  travelled_more_than_25mins_for_offer  ...  \\\n",
       "2468                             0                                     0  ...   \n",
       "4165                             1                                     0  ...   \n",
       "6546                             0                                     0  ...   \n",
       "513                              1                                     0  ...   \n",
       "199                              1                                     0  ...   \n",
       "...                            ...                                   ...  ...   \n",
       "1737                             1                                     0  ...   \n",
       "11886                            0                                     0  ...   \n",
       "1813                             1                                     0  ...   \n",
       "8524                             0                                     0  ...   \n",
       "11704                            0                                     0  ...   \n",
       "\n",
       "              Job/Job Industry restuarant_opposite_direction_house  \\\n",
       "2468      Business & Financial                                   1   \n",
       "4165                   Student                                   1   \n",
       "6546                Management                                   1   \n",
       "513                 Management                                   1   \n",
       "199    Computer & Mathematical                                   1   \n",
       "...                        ...                                 ...   \n",
       "1737   Computer & Mathematical                                   0   \n",
       "11886               Unemployed                                   0   \n",
       "1813    Production Occupations                                   0   \n",
       "8524                Management                                   0   \n",
       "11704               Management                                   1   \n",
       "\n",
       "      has Children visit restaurant with rating (avg)  temperature  \\\n",
       "2468             0                                  2           89   \n",
       "4165             0                                  3           89   \n",
       "6546             1                                  2           89   \n",
       "513              1                                  1           67   \n",
       "199              1                                  0           67   \n",
       "...            ...                                ...          ...   \n",
       "1737             1                                  0           40   \n",
       "11886            0                                  2           89   \n",
       "1813             0                                  1           89   \n",
       "8524             0                                  2           89   \n",
       "11704            0                                  3           40   \n",
       "\n",
       "       Restaur_spend_greater_than20 Travel Time Climate  drop location  \\\n",
       "2468                            1~3          14  Summer     Location A   \n",
       "4165                          less1          14  Summer     Location A   \n",
       "6546                            1~3          14  Summer     Location C   \n",
       "513                           never          18  Winter     Location A   \n",
       "199                             1~3          10  Winter     Location A   \n",
       "...                             ...         ...     ...            ...   \n",
       "1737                          less1           7  Summer     Location B   \n",
       "11886                         never          18  Summer     Location B   \n",
       "1813                          less1           7  Summer     Location B   \n",
       "8524                          less1          10  Winter     Location A   \n",
       "11704                           1~3          14  Summer     Location C   \n",
       "\n",
       "      Prefer home food  \n",
       "2468                 0  \n",
       "4165                 1  \n",
       "6546                 0  \n",
       "513                  1  \n",
       "199                  0  \n",
       "...                ...  \n",
       "1737                 1  \n",
       "11886                1  \n",
       "1813                 1  \n",
       "8524                 1  \n",
       "11704                0  \n",
       "\n",
       "[8665 rows x 30 columns]>"
      ]
     },
     "execution_count": 7,
     "metadata": {},
     "output_type": "execute_result"
    }
   ],
   "source": [
    "X.head"
   ]
  },
  {
   "cell_type": "code",
   "execution_count": 8,
   "id": "415a5851",
   "metadata": {
    "execution": {
     "iopub.execute_input": "2022-12-17T19:48:25.984589Z",
     "iopub.status.busy": "2022-12-17T19:48:25.984128Z",
     "iopub.status.idle": "2022-12-17T19:48:26.001957Z",
     "shell.execute_reply": "2022-12-17T19:48:26.000600Z"
    },
    "papermill": {
     "duration": 0.03048,
     "end_time": "2022-12-17T19:48:26.004772",
     "exception": false,
     "start_time": "2022-12-17T19:48:25.974292",
     "status": "completed"
    },
    "tags": []
   },
   "outputs": [
    {
     "data": {
      "text/plain": [
       "offer expiration                           0\n",
       "income_range                               0\n",
       "no_visited_Cold drinks                   126\n",
       "travelled_more_than_15mins_for_offer       0\n",
       "Restaur_spend_less_than20                 82\n",
       "Marital Status                             0\n",
       "restaurant type                            0\n",
       "age                                        0\n",
       "Prefer western over chinese                0\n",
       "travelled_more_than_25mins_for_offer       0\n",
       "travelled_more_than_5mins_for_offer        0\n",
       "no_visited_bars                           71\n",
       "gender                                     0\n",
       "car                                     8580\n",
       "restuarant_same_direction_house            0\n",
       "Cooks regularly                            0\n",
       "Customer type                              0\n",
       "Qualification                              0\n",
       "is foodie                                  0\n",
       "no_Take-aways                            103\n",
       "Job/Job Industry                           0\n",
       "restuarant_opposite_direction_house        0\n",
       "has Children                               0\n",
       "visit restaurant with rating (avg)         0\n",
       "temperature                                0\n",
       "Restaur_spend_greater_than20             116\n",
       "Travel Time                                0\n",
       "Climate                                    0\n",
       "drop location                              0\n",
       "Prefer home food                           0\n",
       "dtype: int64"
      ]
     },
     "execution_count": 8,
     "metadata": {},
     "output_type": "execute_result"
    }
   ],
   "source": [
    "X.isnull().sum()"
   ]
  },
  {
   "cell_type": "code",
   "execution_count": 9,
   "id": "8bb73480",
   "metadata": {
    "execution": {
     "iopub.execute_input": "2022-12-17T19:48:26.024073Z",
     "iopub.status.busy": "2022-12-17T19:48:26.022746Z",
     "iopub.status.idle": "2022-12-17T19:48:26.048558Z",
     "shell.execute_reply": "2022-12-17T19:48:26.047106Z"
    },
    "papermill": {
     "duration": 0.038121,
     "end_time": "2022-12-17T19:48:26.051264",
     "exception": false,
     "start_time": "2022-12-17T19:48:26.013143",
     "status": "completed"
    },
    "tags": []
   },
   "outputs": [
    {
     "data": {
      "text/plain": [
       "offer expiration                         2\n",
       "income_range                             9\n",
       "no_visited_Cold drinks                   5\n",
       "travelled_more_than_15mins_for_offer     2\n",
       "Restaur_spend_less_than20                5\n",
       "Marital Status                           5\n",
       "restaurant type                          5\n",
       "age                                      8\n",
       "Prefer western over chinese              2\n",
       "travelled_more_than_25mins_for_offer     2\n",
       "travelled_more_than_5mins_for_offer      1\n",
       "no_visited_bars                          5\n",
       "gender                                   2\n",
       "car                                      5\n",
       "restuarant_same_direction_house          2\n",
       "Cooks regularly                          2\n",
       "Customer type                            4\n",
       "Qualification                            6\n",
       "is foodie                                2\n",
       "no_Take-aways                            5\n",
       "Job/Job Industry                        25\n",
       "restuarant_opposite_direction_house      2\n",
       "has Children                             2\n",
       "visit restaurant with rating (avg)       5\n",
       "temperature                              3\n",
       "Restaur_spend_greater_than20             5\n",
       "Travel Time                              5\n",
       "Climate                                  3\n",
       "drop location                            3\n",
       "Prefer home food                         2\n",
       "dtype: int64"
      ]
     },
     "execution_count": 9,
     "metadata": {},
     "output_type": "execute_result"
    }
   ],
   "source": [
    "X.nunique()"
   ]
  },
  {
   "cell_type": "code",
   "execution_count": 10,
   "id": "0d0f87e9",
   "metadata": {
    "execution": {
     "iopub.execute_input": "2022-12-17T19:48:26.069946Z",
     "iopub.status.busy": "2022-12-17T19:48:26.069561Z",
     "iopub.status.idle": "2022-12-17T19:48:26.098742Z",
     "shell.execute_reply": "2022-12-17T19:48:26.097049Z"
    },
    "papermill": {
     "duration": 0.041592,
     "end_time": "2022-12-17T19:48:26.101402",
     "exception": false,
     "start_time": "2022-12-17T19:48:26.059810",
     "status": "completed"
    },
    "tags": []
   },
   "outputs": [
    {
     "name": "stdout",
     "output_type": "stream",
     "text": [
      "['2days' '10hours']\n",
      "['₹100000 or More' '₹87500 - ₹99999' '₹37500 - ₹49999' 'Less than ₹12500'\n",
      " '₹50000 - ₹62499' '₹12500 - ₹24999' '₹75000 - ₹87499' '₹25000 - ₹37499'\n",
      " '₹62500 - ₹74999']\n",
      "['4~8' 'less1' 'never' '1~3' 'gt8' nan]\n",
      "[1 0]\n",
      "['less1' '4~8' '1~3' 'gt8' 'never' nan]\n",
      "['Married partner' 'Single' 'Divorced' 'Unmarried partner' 'Widowed']\n",
      "['4 star restaurant' 'Take-away restaurant' 'Cold drinks'\n",
      " 'Restaurant with pub' '2 star restaurant']\n",
      "['36' '50plus' '26' '46' '21' 'below21' '41' '31']\n",
      "[0 1]\n",
      "[0 1]\n",
      "[1]\n",
      "['less1' 'never' '1~3' nan '4~8' 'gt8']\n",
      "['Female' 'Male']\n",
      "[nan 'Mazda5' 'Car that is too old to install Onstar :D' 'crossover'\n",
      " 'Scooter and motorcycle' 'do not drive']\n",
      "[0 1]\n",
      "[1 0]\n",
      "['Individual' 'With Family' 'With Kids' 'With Colleagues']\n",
      "['Bachelors degree' 'Some college - no degree'\n",
      " 'Graduate degree (Masters or Doctorate)' 'Associates degree'\n",
      " 'High School Graduate' 'Some High School']\n",
      "[0 1]\n",
      "['1~3' 'gt8' '4~8' 'less1' nan 'never']\n",
      "['Unemployed' 'Arts Design Entertainment Sports & Media' 'Sales & Related'\n",
      " 'Student' 'Business & Financial' 'Computer & Mathematical'\n",
      " 'Office & Administrative Support' 'Management' 'Healthcare Support'\n",
      " 'Life Physical Social Science' 'Installation Maintenance & Repair'\n",
      " 'Legal' 'Community & Social Services' 'Education&Training&Library'\n",
      " 'Construction & Extraction' 'Healthcare Practitioners & Technical'\n",
      " 'Transportation & Material Moving' 'Retired' 'Architecture & Engineering'\n",
      " 'Production Occupations' 'Farming Fishing & Forestry'\n",
      " 'Protective Service' 'Personal Care & Service'\n",
      " 'Food Preparation & Serving Related'\n",
      " 'Building & Grounds Cleaning & Maintenance']\n",
      "[0 1]\n",
      "[0 1]\n",
      "[4 3 0 1 2]\n",
      "[67 89 40]\n",
      "['less1' '1~3' 'never' 'gt8' nan '4~8']\n",
      "[22 18  7 10 14]\n",
      "['Spring' 'Summer' 'Winter']\n",
      "['Location B' 'Location A' 'Location C']\n",
      "[0 1]\n"
     ]
    }
   ],
   "source": [
    "for i in range(30):\n",
    "  print(train_data[X.columns[i]].unique())"
   ]
  },
  {
   "cell_type": "code",
   "execution_count": 11,
   "id": "c2d469f4",
   "metadata": {
    "execution": {
     "iopub.execute_input": "2022-12-17T19:48:26.121619Z",
     "iopub.status.busy": "2022-12-17T19:48:26.120467Z",
     "iopub.status.idle": "2022-12-17T19:48:26.342151Z",
     "shell.execute_reply": "2022-12-17T19:48:26.340866Z"
    },
    "papermill": {
     "duration": 0.234566,
     "end_time": "2022-12-17T19:48:26.345099",
     "exception": false,
     "start_time": "2022-12-17T19:48:26.110533",
     "status": "completed"
    },
    "tags": []
   },
   "outputs": [],
   "source": [
    "from sklearn.preprocessing import OrdinalEncoder\n",
    "oi=OrdinalEncoder()\n",
    "X=oi.fit_transform(X)\n",
    "valx=oi.fit_transform(valx)\n",
    "test_data=oi.fit_transform(test_data)\n",
    "features=oi.fit_transform(features)\n",
    "\n"
   ]
  },
  {
   "cell_type": "code",
   "execution_count": 12,
   "id": "48d3721d",
   "metadata": {
    "execution": {
     "iopub.execute_input": "2022-12-17T19:48:26.363733Z",
     "iopub.status.busy": "2022-12-17T19:48:26.363280Z",
     "iopub.status.idle": "2022-12-17T19:48:44.599252Z",
     "shell.execute_reply": "2022-12-17T19:48:44.597814Z"
    },
    "papermill": {
     "duration": 18.248739,
     "end_time": "2022-12-17T19:48:44.602313",
     "exception": false,
     "start_time": "2022-12-17T19:48:26.353574",
     "status": "completed"
    },
    "tags": []
   },
   "outputs": [],
   "source": [
    "from sklearn.impute import KNNImputer\n",
    "ki=KNNImputer()\n",
    "X=ki.fit_transform(X)\n",
    "valx=ki.fit_transform(valx)\n",
    "features=ki.fit_transform(features)\n",
    "test_data=ki.fit_transform(test_data)\n"
   ]
  },
  {
   "cell_type": "code",
   "execution_count": 13,
   "id": "5dfb0005",
   "metadata": {
    "execution": {
     "iopub.execute_input": "2022-12-17T19:48:44.621438Z",
     "iopub.status.busy": "2022-12-17T19:48:44.621018Z",
     "iopub.status.idle": "2022-12-17T19:48:44.635888Z",
     "shell.execute_reply": "2022-12-17T19:48:44.634711Z"
    },
    "papermill": {
     "duration": 0.027444,
     "end_time": "2022-12-17T19:48:44.638547",
     "exception": false,
     "start_time": "2022-12-17T19:48:44.611103",
     "status": "completed"
    },
    "tags": []
   },
   "outputs": [],
   "source": [
    "from sklearn.preprocessing import LabelEncoder\n",
    "ohe=LabelEncoder()\n",
    "y=ohe.fit_transform(y.ravel())\n",
    "valy=ohe.fit_transform(valy.ravel())\n",
    "label=ohe.fit_transform(label.ravel())"
   ]
  },
  {
   "cell_type": "code",
   "execution_count": 14,
   "id": "25b2e2b2",
   "metadata": {
    "execution": {
     "iopub.execute_input": "2022-12-17T19:48:44.657641Z",
     "iopub.status.busy": "2022-12-17T19:48:44.657220Z",
     "iopub.status.idle": "2022-12-17T19:48:44.762636Z",
     "shell.execute_reply": "2022-12-17T19:48:44.761212Z"
    },
    "papermill": {
     "duration": 0.118458,
     "end_time": "2022-12-17T19:48:44.765612",
     "exception": false,
     "start_time": "2022-12-17T19:48:44.647154",
     "status": "completed"
    },
    "tags": []
   },
   "outputs": [],
   "source": [
    "from sklearn.model_selection import cross_validate, GridSearchCV, RandomizedSearchCV\n",
    "from sklearn.metrics import classification_report\n",
    "from sklearn.naive_bayes import GaussianNB\n",
    "from sklearn.linear_model import LogisticRegression,SGDClassifier\n",
    "from sklearn.tree import DecisionTreeClassifier\n",
    "from sklearn.ensemble import BaggingClassifier\n",
    "from sklearn.model_selection import RepeatedStratifiedKFold\n",
    "from sklearn.ensemble import BaggingClassifier"
   ]
  },
  {
   "cell_type": "code",
   "execution_count": 15,
   "id": "da970713",
   "metadata": {
    "execution": {
     "iopub.execute_input": "2022-12-17T19:48:44.784760Z",
     "iopub.status.busy": "2022-12-17T19:48:44.784283Z",
     "iopub.status.idle": "2022-12-17T19:48:44.790870Z",
     "shell.execute_reply": "2022-12-17T19:48:44.789518Z"
    },
    "papermill": {
     "duration": 0.01881,
     "end_time": "2022-12-17T19:48:44.793073",
     "exception": false,
     "start_time": "2022-12-17T19:48:44.774263",
     "status": "completed"
    },
    "tags": []
   },
   "outputs": [],
   "source": [
    "model = BaggingClassifier()\n",
    "n_estimators = [90,110]\n",
    "grid = dict(n_estimators=n_estimators)\n",
    "cv = RepeatedStratifiedKFold(n_splits=10)\n",
    "grid_search = GridSearchCV(estimator=model, param_grid=grid, n_jobs=-1, cv=cv, scoring='accuracy')\n"
   ]
  },
  {
   "cell_type": "code",
   "execution_count": 16,
   "id": "5eb31704",
   "metadata": {
    "execution": {
     "iopub.execute_input": "2022-12-17T19:48:44.812338Z",
     "iopub.status.busy": "2022-12-17T19:48:44.811926Z",
     "iopub.status.idle": "2022-12-17T19:54:06.126159Z",
     "shell.execute_reply": "2022-12-17T19:54:06.124349Z"
    },
    "papermill": {
     "duration": 321.334813,
     "end_time": "2022-12-17T19:54:06.136703",
     "exception": false,
     "start_time": "2022-12-17T19:48:44.801890",
     "status": "completed"
    },
    "tags": []
   },
   "outputs": [
    {
     "name": "stdout",
     "output_type": "stream",
     "text": [
      "0.623013470569589\n",
      "{'n_estimators': 110}\n",
      "0.620844 (0.015128) with: {'n_estimators': 90}\n",
      "0.623013 (0.013986) with: {'n_estimators': 110}\n"
     ]
    }
   ],
   "source": [
    "grid_result = grid_search.fit(X, y)\n",
    "print(grid_result.best_score_)\n",
    "print(grid_result.best_params_)\n",
    "means = grid_result.cv_results_['mean_test_score']\n",
    "stds = grid_result.cv_results_['std_test_score']\n",
    "params = grid_result.cv_results_['params']\n",
    "for mean, stdev, param in zip(means, stds, params):\n",
    "    print(\"%f (%f) with: %r\" % (mean, stdev, param))"
   ]
  },
  {
   "cell_type": "code",
   "execution_count": 17,
   "id": "553b91a3",
   "metadata": {
    "execution": {
     "iopub.execute_input": "2022-12-17T19:54:06.156571Z",
     "iopub.status.busy": "2022-12-17T19:54:06.156108Z",
     "iopub.status.idle": "2022-12-17T19:54:10.844660Z",
     "shell.execute_reply": "2022-12-17T19:54:10.843480Z"
    },
    "papermill": {
     "duration": 4.701913,
     "end_time": "2022-12-17T19:54:10.847200",
     "exception": false,
     "start_time": "2022-12-17T19:54:06.145287",
     "status": "completed"
    },
    "tags": []
   },
   "outputs": [
    {
     "data": {
      "text/plain": [
       "BaggingClassifier(n_estimators=90)"
      ]
     },
     "execution_count": 17,
     "metadata": {},
     "output_type": "execute_result"
    }
   ],
   "source": [
    "bc=BaggingClassifier(n_estimators=90)\n",
    "bc.fit(X,y)"
   ]
  },
  {
   "cell_type": "code",
   "execution_count": 18,
   "id": "9295c87e",
   "metadata": {
    "execution": {
     "iopub.execute_input": "2022-12-17T19:54:10.867965Z",
     "iopub.status.busy": "2022-12-17T19:54:10.866785Z",
     "iopub.status.idle": "2022-12-17T19:54:10.985035Z",
     "shell.execute_reply": "2022-12-17T19:54:10.983806Z"
    },
    "papermill": {
     "duration": 0.131673,
     "end_time": "2022-12-17T19:54:10.987890",
     "exception": false,
     "start_time": "2022-12-17T19:54:10.856217",
     "status": "completed"
    },
    "tags": []
   },
   "outputs": [],
   "source": [
    "y_pred=bc.predict(valx)"
   ]
  },
  {
   "cell_type": "code",
   "execution_count": 19,
   "id": "8d13d0f2",
   "metadata": {
    "execution": {
     "iopub.execute_input": "2022-12-17T19:54:11.007747Z",
     "iopub.status.busy": "2022-12-17T19:54:11.007250Z",
     "iopub.status.idle": "2022-12-17T19:54:11.019656Z",
     "shell.execute_reply": "2022-12-17T19:54:11.018251Z"
    },
    "papermill": {
     "duration": 0.025587,
     "end_time": "2022-12-17T19:54:11.022331",
     "exception": false,
     "start_time": "2022-12-17T19:54:10.996744",
     "status": "completed"
    },
    "tags": []
   },
   "outputs": [
    {
     "data": {
      "text/plain": [
       "0.6879789796365229"
      ]
     },
     "execution_count": 19,
     "metadata": {},
     "output_type": "execute_result"
    }
   ],
   "source": [
    "from sklearn.metrics import f1_score\n",
    "f1_score(valy,y_pred)"
   ]
  },
  {
   "cell_type": "code",
   "execution_count": 20,
   "id": "e47f1288",
   "metadata": {
    "execution": {
     "iopub.execute_input": "2022-12-17T19:54:11.043357Z",
     "iopub.status.busy": "2022-12-17T19:54:11.042963Z",
     "iopub.status.idle": "2022-12-17T19:54:11.064857Z",
     "shell.execute_reply": "2022-12-17T19:54:11.063592Z"
    },
    "papermill": {
     "duration": 0.035884,
     "end_time": "2022-12-17T19:54:11.067828",
     "exception": false,
     "start_time": "2022-12-17T19:54:11.031944",
     "status": "completed"
    },
    "tags": []
   },
   "outputs": [
    {
     "name": "stdout",
     "output_type": "stream",
     "text": [
      "[[ 718  939]\n",
      " [ 486 1571]]\n",
      "              precision    recall  f1-score   support\n",
      "\n",
      "           0       0.60      0.43      0.50      1657\n",
      "           1       0.63      0.76      0.69      2057\n",
      "\n",
      "    accuracy                           0.62      3714\n",
      "   macro avg       0.61      0.60      0.59      3714\n",
      "weighted avg       0.61      0.62      0.60      3714\n",
      "\n"
     ]
    }
   ],
   "source": [
    "from sklearn.metrics import confusion_matrix\n",
    "from sklearn.metrics import classification_report\n",
    "print(confusion_matrix(valy,y_pred))\n",
    "print(classification_report(valy, y_pred))"
   ]
  },
  {
   "cell_type": "code",
   "execution_count": 21,
   "id": "22cdfa90",
   "metadata": {
    "execution": {
     "iopub.execute_input": "2022-12-17T19:54:11.088598Z",
     "iopub.status.busy": "2022-12-17T19:54:11.088149Z",
     "iopub.status.idle": "2022-12-17T19:54:17.920547Z",
     "shell.execute_reply": "2022-12-17T19:54:17.919269Z"
    },
    "papermill": {
     "duration": 6.847057,
     "end_time": "2022-12-17T19:54:17.923720",
     "exception": false,
     "start_time": "2022-12-17T19:54:11.076663",
     "status": "completed"
    },
    "tags": []
   },
   "outputs": [
    {
     "data": {
      "text/plain": [
       "BaggingClassifier(n_estimators=90)"
      ]
     },
     "execution_count": 21,
     "metadata": {},
     "output_type": "execute_result"
    }
   ],
   "source": [
    "bc.fit(features,label)"
   ]
  },
  {
   "cell_type": "code",
   "execution_count": 22,
   "id": "853b0e19",
   "metadata": {
    "execution": {
     "iopub.execute_input": "2022-12-17T19:54:17.944583Z",
     "iopub.status.busy": "2022-12-17T19:54:17.943606Z",
     "iopub.status.idle": "2022-12-17T19:54:18.106461Z",
     "shell.execute_reply": "2022-12-17T19:54:18.104959Z"
    },
    "papermill": {
     "duration": 0.176656,
     "end_time": "2022-12-17T19:54:18.109909",
     "exception": false,
     "start_time": "2022-12-17T19:54:17.933253",
     "status": "completed"
    },
    "tags": []
   },
   "outputs": [],
   "source": [
    "pred_data=bc.predict(test_data)"
   ]
  },
  {
   "cell_type": "code",
   "execution_count": 23,
   "id": "20d341e4",
   "metadata": {
    "execution": {
     "iopub.execute_input": "2022-12-17T19:54:18.130696Z",
     "iopub.status.busy": "2022-12-17T19:54:18.130260Z",
     "iopub.status.idle": "2022-12-17T19:54:18.135698Z",
     "shell.execute_reply": "2022-12-17T19:54:18.134375Z"
    },
    "papermill": {
     "duration": 0.018983,
     "end_time": "2022-12-17T19:54:18.138206",
     "exception": false,
     "start_time": "2022-12-17T19:54:18.119223",
     "status": "completed"
    },
    "tags": []
   },
   "outputs": [],
   "source": [
    "pred_data=pred_data.tolist()"
   ]
  },
  {
   "cell_type": "code",
   "execution_count": 24,
   "id": "0b0cf44a",
   "metadata": {
    "execution": {
     "iopub.execute_input": "2022-12-17T19:54:18.158916Z",
     "iopub.status.busy": "2022-12-17T19:54:18.157834Z",
     "iopub.status.idle": "2022-12-17T19:54:18.164849Z",
     "shell.execute_reply": "2022-12-17T19:54:18.163809Z"
    },
    "papermill": {
     "duration": 0.01989,
     "end_time": "2022-12-17T19:54:18.167120",
     "exception": false,
     "start_time": "2022-12-17T19:54:18.147230",
     "status": "completed"
    },
    "tags": []
   },
   "outputs": [
    {
     "data": {
      "text/plain": [
       "5305"
      ]
     },
     "execution_count": 24,
     "metadata": {},
     "output_type": "execute_result"
    }
   ],
   "source": [
    "len(pred_data)"
   ]
  },
  {
   "cell_type": "code",
   "execution_count": 25,
   "id": "2ab4a8a1",
   "metadata": {
    "execution": {
     "iopub.execute_input": "2022-12-17T19:54:18.187495Z",
     "iopub.status.busy": "2022-12-17T19:54:18.186707Z",
     "iopub.status.idle": "2022-12-17T19:54:18.192921Z",
     "shell.execute_reply": "2022-12-17T19:54:18.191785Z"
    },
    "papermill": {
     "duration": 0.018959,
     "end_time": "2022-12-17T19:54:18.195373",
     "exception": false,
     "start_time": "2022-12-17T19:54:18.176414",
     "status": "completed"
    },
    "tags": []
   },
   "outputs": [],
   "source": [
    "id=[]\n",
    "for i in range(0,5305):\n",
    "    id.append(i)"
   ]
  },
  {
   "cell_type": "code",
   "execution_count": 26,
   "id": "f47d3593",
   "metadata": {
    "execution": {
     "iopub.execute_input": "2022-12-17T19:54:18.214755Z",
     "iopub.status.busy": "2022-12-17T19:54:18.214287Z",
     "iopub.status.idle": "2022-12-17T19:54:18.221076Z",
     "shell.execute_reply": "2022-12-17T19:54:18.219989Z"
    },
    "papermill": {
     "duration": 0.018943,
     "end_time": "2022-12-17T19:54:18.223220",
     "exception": false,
     "start_time": "2022-12-17T19:54:18.204277",
     "status": "completed"
    },
    "tags": []
   },
   "outputs": [],
   "source": [
    "for i in range(0,5305):\n",
    "    if pred_data[i]==1:\n",
    "        pred_data[i]='Yes'\n",
    "    else:\n",
    "        pred_data[i]='No'"
   ]
  },
  {
   "cell_type": "code",
   "execution_count": 27,
   "id": "6f388623",
   "metadata": {
    "execution": {
     "iopub.execute_input": "2022-12-17T19:54:18.243095Z",
     "iopub.status.busy": "2022-12-17T19:54:18.242147Z",
     "iopub.status.idle": "2022-12-17T19:54:18.251010Z",
     "shell.execute_reply": "2022-12-17T19:54:18.249613Z"
    },
    "papermill": {
     "duration": 0.021956,
     "end_time": "2022-12-17T19:54:18.254048",
     "exception": false,
     "start_time": "2022-12-17T19:54:18.232092",
     "status": "completed"
    },
    "tags": []
   },
   "outputs": [],
   "source": [
    "sub=pd.DataFrame({'id':id,'Offer Accepted':pred_data})"
   ]
  },
  {
   "cell_type": "code",
   "execution_count": 28,
   "id": "9541604e",
   "metadata": {
    "execution": {
     "iopub.execute_input": "2022-12-17T19:54:18.274004Z",
     "iopub.status.busy": "2022-12-17T19:54:18.273585Z",
     "iopub.status.idle": "2022-12-17T19:54:18.288701Z",
     "shell.execute_reply": "2022-12-17T19:54:18.287293Z"
    },
    "papermill": {
     "duration": 0.028218,
     "end_time": "2022-12-17T19:54:18.291290",
     "exception": false,
     "start_time": "2022-12-17T19:54:18.263072",
     "status": "completed"
    },
    "tags": []
   },
   "outputs": [],
   "source": [
    "sub.to_csv('submission.csv',index=False)"
   ]
  }
 ],
 "metadata": {
  "kernelspec": {
   "display_name": "Python 3",
   "language": "python",
   "name": "python3"
  },
  "language_info": {
   "codemirror_mode": {
    "name": "ipython",
    "version": 3
   },
   "file_extension": ".py",
   "mimetype": "text/x-python",
   "name": "python",
   "nbconvert_exporter": "python",
   "pygments_lexer": "ipython3",
   "version": "3.7.12"
  },
  "papermill": {
   "default_parameters": {},
   "duration": 368.347902,
   "end_time": "2022-12-17T19:54:20.925451",
   "environment_variables": {},
   "exception": null,
   "input_path": "__notebook__.ipynb",
   "output_path": "__notebook__.ipynb",
   "parameters": {},
   "start_time": "2022-12-17T19:48:12.577549",
   "version": "2.3.4"
  }
 },
 "nbformat": 4,
 "nbformat_minor": 5
}
